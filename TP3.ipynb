{
  "nbformat": 4,
  "nbformat_minor": 0,
  "metadata": {
    "colab": {
      "provenance": [],
      "include_colab_link": true
    },
    "kernelspec": {
      "name": "python3",
      "display_name": "Python 3"
    },
    "language_info": {
      "name": "python"
    }
  },
  "cells": [
    {
      "cell_type": "markdown",
      "metadata": {
        "id": "view-in-github",
        "colab_type": "text"
      },
      "source": [
        "<a href=\"https://colab.research.google.com/github/B-Manitas/2023-assignment-numpy/blob/main/TP3.ipynb\" target=\"_parent\"><img src=\"https://colab.research.google.com/assets/colab-badge.svg\" alt=\"Open In Colab\"/></a>"
      ]
    },
    {
      "cell_type": "code",
      "source": [
        "!pip install gensim fasttext"
      ],
      "metadata": {
        "colab": {
          "base_uri": "https://localhost:8080/"
        },
        "id": "7Q6kQCnklmDQ",
        "outputId": "9c09a941-eb30-4ff2-8caf-630cd73dbe0f"
      },
      "execution_count": 5,
      "outputs": [
        {
          "output_type": "stream",
          "name": "stdout",
          "text": [
            "Requirement already satisfied: gensim in /usr/local/lib/python3.11/dist-packages (4.3.3)\n",
            "Collecting fasttext\n",
            "  Downloading fasttext-0.9.3.tar.gz (73 kB)\n",
            "\u001b[?25l     \u001b[90m━━━━━━━━━━━━━━━━━━━━━━━━━━━━━━━━━━━━━━━━\u001b[0m \u001b[32m0.0/73.4 kB\u001b[0m \u001b[31m?\u001b[0m eta \u001b[36m-:--:--\u001b[0m\r\u001b[2K     \u001b[90m━━━━━━━━━━━━━━━━━━━━━━━━━━━━━━━━━━━━━━━━\u001b[0m \u001b[32m73.4/73.4 kB\u001b[0m \u001b[31m7.1 MB/s\u001b[0m eta \u001b[36m0:00:00\u001b[0m\n",
            "\u001b[?25h  Installing build dependencies ... \u001b[?25l\u001b[?25hdone\n",
            "  Getting requirements to build wheel ... \u001b[?25l\u001b[?25hdone\n",
            "  Preparing metadata (pyproject.toml) ... \u001b[?25l\u001b[?25hdone\n",
            "Requirement already satisfied: numpy<2.0,>=1.18.5 in /usr/local/lib/python3.11/dist-packages (from gensim) (1.26.4)\n",
            "Requirement already satisfied: scipy<1.14.0,>=1.7.0 in /usr/local/lib/python3.11/dist-packages (from gensim) (1.13.1)\n",
            "Requirement already satisfied: smart-open>=1.8.1 in /usr/local/lib/python3.11/dist-packages (from gensim) (7.1.0)\n",
            "Collecting pybind11>=2.2 (from fasttext)\n",
            "  Using cached pybind11-2.13.6-py3-none-any.whl.metadata (9.5 kB)\n",
            "Requirement already satisfied: setuptools>=0.7.0 in /usr/local/lib/python3.11/dist-packages (from fasttext) (75.1.0)\n",
            "Requirement already satisfied: wrapt in /usr/local/lib/python3.11/dist-packages (from smart-open>=1.8.1->gensim) (1.17.0)\n",
            "Using cached pybind11-2.13.6-py3-none-any.whl (243 kB)\n",
            "Building wheels for collected packages: fasttext\n",
            "  Building wheel for fasttext (pyproject.toml) ... \u001b[?25l\u001b[?25hdone\n",
            "  Created wheel for fasttext: filename=fasttext-0.9.3-cp311-cp311-linux_x86_64.whl size=4313473 sha256=31c1f671380b522f2c62a7b59c664da7d33bf96ad21f935232a6ce344605bd2a\n",
            "  Stored in directory: /root/.cache/pip/wheels/65/4f/35/5057db0249224e9ab55a513fa6b79451473ceb7713017823c3\n",
            "Successfully built fasttext\n",
            "Installing collected packages: pybind11, fasttext\n",
            "Successfully installed fasttext-0.9.3 pybind11-2.13.6\n"
          ]
        }
      ]
    },
    {
      "cell_type": "code",
      "source": [
        "def load_corpus(filepath):\n",
        "    with open(filepath, 'r', encoding='utf-8') as f:\n",
        "        corpus = [line.strip().split() for line in f]\n",
        "    return corpus\n",
        "\n",
        "# Chemins des fichiers\n",
        "medical_corpus_path = \"data/QUAERO_FrenchMed/QUAERO_FrenchMed_traindev.ospl\"\n",
        "press_corpus_path = \"data/QUAERO_FrenchPress/QUAERO_FrenchPress_traindev.ospl\"\n",
        "\n",
        "# Charger les corpus\n",
        "medical_corpus = load_corpus(medical_corpus_path)\n",
        "press_corpus = load_corpus(press_corpus_path)\n"
      ],
      "metadata": {
        "id": "L_-W2jttlnCE"
      },
      "execution_count": 8,
      "outputs": []
    },
    {
      "cell_type": "code",
      "source": [
        "from gensim.models import Word2Vec\n",
        "\n",
        "def train_word2vec(corpus, sg, save_path):\n",
        "    # Entraîner le modèle\n",
        "    model = Word2Vec(\n",
        "        sentences=corpus,\n",
        "        vector_size=100,  # Taille des vecteurs\n",
        "        window=5,         # Taille du contexte\n",
        "        min_count=1,      # Fréquence minimale des mots\n",
        "        sg=sg,            # 0 = CBOW, 1 = Skipgram\n",
        "        workers=4         # Nombre de threads\n",
        "    )\n",
        "    # Sauvegarder le modèle\n",
        "    model.save(save_path)\n",
        "    print(f\"Modèle Word2Vec sauvegardé dans {save_path}\")\n",
        "\n",
        "# Entraîner et sauvegarder les modèles Word2Vec\n",
        "train_word2vec(medical_corpus, sg=0, save_path=\"word2vec_cbow_med.model\")\n",
        "train_word2vec(medical_corpus, sg=1, save_path=\"word2vec_skipgram_med.model\")\n",
        "train_word2vec(press_corpus, sg=0, save_path=\"word2vec_cbow_press.model\")\n",
        "train_word2vec(press_corpus, sg=1, save_path=\"word2vec_skipgram_press.model\")\n"
      ],
      "metadata": {
        "colab": {
          "base_uri": "https://localhost:8080/"
        },
        "id": "MZNUSV6Mlzxz",
        "outputId": "35e85739-78af-48ab-fee3-5f1fc1e570af"
      },
      "execution_count": 9,
      "outputs": [
        {
          "output_type": "stream",
          "name": "stdout",
          "text": [
            "Modèle Word2Vec sauvegardé dans word2vec_cbow_med.model\n",
            "Modèle Word2Vec sauvegardé dans word2vec_skipgram_med.model\n",
            "Modèle Word2Vec sauvegardé dans word2vec_cbow_press.model\n",
            "Modèle Word2Vec sauvegardé dans word2vec_skipgram_press.model\n"
          ]
        }
      ]
    },
    {
      "cell_type": "code",
      "source": [
        "import fasttext\n",
        "import fasttext.util\n",
        "\n",
        "def train_fasttext(corpus_path, save_path):\n",
        "    # Entraîner le modèle FastText (CBOW)\n",
        "    model = fasttext.train_unsupervised(\n",
        "        input=corpus_path,\n",
        "        model='cbow',  # CBOW\n",
        "        dim=100,       # Taille des vecteurs\n",
        "        minCount=1     # Fréquence minimale des mots\n",
        "    )\n",
        "    # Sauvegarder le modèle\n",
        "    model.save_model(save_path)\n",
        "    print(f\"Modèle FastText sauvegardé dans {save_path}\")\n",
        "\n",
        "# Entraîner et sauvegarder les modèles FastText\n",
        "train_fasttext(\"data/QUAERO_FrenchMed/QUAERO_FrenchMed_traindev.ospl\", \"fasttext_cbow_med.bin\")\n",
        "train_fasttext(\"data/QUAERO_FrenchPress/QUAERO_FrenchPress_traindev.ospl\", \"fasttext_cbow_press.bin\")\n"
      ],
      "metadata": {
        "colab": {
          "base_uri": "https://localhost:8080/"
        },
        "id": "nkwV_cclmYBc",
        "outputId": "03efc978-1698-478e-d943-64f7065b5925"
      },
      "execution_count": 11,
      "outputs": [
        {
          "output_type": "stream",
          "name": "stdout",
          "text": [
            "Modèle FastText sauvegardé dans fasttext_cbow_med.bin\n",
            "Modèle FastText sauvegardé dans fasttext_cbow_press.bin\n"
          ]
        }
      ]
    },
    {
      "cell_type": "code",
      "source": [],
      "metadata": {
        "id": "fymjase6m8PM"
      },
      "execution_count": null,
      "outputs": []
    }
  ]
}